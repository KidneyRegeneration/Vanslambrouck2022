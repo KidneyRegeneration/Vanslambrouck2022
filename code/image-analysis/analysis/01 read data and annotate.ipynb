{
 "cells": [
  {
   "cell_type": "code",
   "execution_count": 1,
   "id": "cbfead25",
   "metadata": {},
   "outputs": [],
   "source": [
    "import czifile\n",
    "from skimage import io\n",
    "import numpy as np\n",
    "import matplotlib.pyplot as plt\n",
    "import napari\n",
    "from glob import glob\n",
    "from os import path\n",
    "import scipy\n",
    "import pandas as pd"
   ]
  },
  {
   "cell_type": "code",
   "execution_count": 2,
   "id": "06b9506a",
   "metadata": {},
   "outputs": [],
   "source": [
    "#function for reading czi files\n",
    "def read_czi(file_path):\n",
    "    img = czifile.imread(file_path)\n",
    "    img = img[0,0,:,0,0,:,:,0] # remove extra dimensions\n",
    "    return (img)"
   ]
  },
  {
   "cell_type": "code",
   "execution_count": 4,
   "id": "643a3bf5",
   "metadata": {},
   "outputs": [
    {
     "name": "stdout",
     "output_type": "stream",
     "text": [
      "['IWR1 10uM_n=1_10X 1.0zoom 2x2tile.czi', 'IWR1 10uM_n=2_10X 1.0zoom 2x2tile.czi', 'IWR1 10uM_n=3_10X 1.0zoom 2x2tile.czi', 'PBS control_n=1_10X 1.0zoom 2x2tile.czi', 'PBS control_n=2_10X 1.0zoom 2x2tile.czi', 'PBS control_n=3_10X 1.0zoom 2x2tile.czi']\n"
     ]
    }
   ],
   "source": [
    "img_files = sorted(glob(\"../data/*.czi\"))\n",
    "file_names = [path.basename(a) for a in img_files]\n",
    "\n",
    "print(file_names)"
   ]
  },
  {
   "cell_type": "code",
   "execution_count": 4,
   "id": "8f7fe411",
   "metadata": {},
   "outputs": [
    {
     "data": {
      "text/html": [
       "<div>\n",
       "<style scoped>\n",
       "    .dataframe tbody tr th:only-of-type {\n",
       "        vertical-align: middle;\n",
       "    }\n",
       "\n",
       "    .dataframe tbody tr th {\n",
       "        vertical-align: top;\n",
       "    }\n",
       "\n",
       "    .dataframe thead th {\n",
       "        text-align: right;\n",
       "    }\n",
       "</style>\n",
       "<table border=\"1\" class=\"dataframe\">\n",
       "  <thead>\n",
       "    <tr style=\"text-align: right;\">\n",
       "      <th></th>\n",
       "      <th>file</th>\n",
       "      <th>condition</th>\n",
       "    </tr>\n",
       "  </thead>\n",
       "  <tbody>\n",
       "    <tr>\n",
       "      <th>0</th>\n",
       "      <td>IWR1 10uM_n=1_10X 1.0zoom 2x2tile.czi</td>\n",
       "      <td>IWR</td>\n",
       "    </tr>\n",
       "    <tr>\n",
       "      <th>1</th>\n",
       "      <td>IWR1 10uM_n=2_10X 1.0zoom 2x2tile.czi</td>\n",
       "      <td>IWR</td>\n",
       "    </tr>\n",
       "    <tr>\n",
       "      <th>2</th>\n",
       "      <td>IWR1 10uM_n=3_10X 1.0zoom 2x2tile.czi</td>\n",
       "      <td>IWR</td>\n",
       "    </tr>\n",
       "    <tr>\n",
       "      <th>3</th>\n",
       "      <td>PBS control_n=1_10X 1.0zoom 2x2tile.czi</td>\n",
       "      <td>PBS</td>\n",
       "    </tr>\n",
       "    <tr>\n",
       "      <th>4</th>\n",
       "      <td>PBS control_n=2_10X 1.0zoom 2x2tile.czi</td>\n",
       "      <td>PBS</td>\n",
       "    </tr>\n",
       "    <tr>\n",
       "      <th>5</th>\n",
       "      <td>PBS control_n=3_10X 1.0zoom 2x2tile.czi</td>\n",
       "      <td>PBS</td>\n",
       "    </tr>\n",
       "  </tbody>\n",
       "</table>\n",
       "</div>"
      ],
      "text/plain": [
       "                                      file condition\n",
       "0    IWR1 10uM_n=1_10X 1.0zoom 2x2tile.czi       IWR\n",
       "1    IWR1 10uM_n=2_10X 1.0zoom 2x2tile.czi       IWR\n",
       "2    IWR1 10uM_n=3_10X 1.0zoom 2x2tile.czi       IWR\n",
       "3  PBS control_n=1_10X 1.0zoom 2x2tile.czi       PBS\n",
       "4  PBS control_n=2_10X 1.0zoom 2x2tile.czi       PBS\n",
       "5  PBS control_n=3_10X 1.0zoom 2x2tile.czi       PBS"
      ]
     },
     "execution_count": 4,
     "metadata": {},
     "output_type": "execute_result"
    }
   ],
   "source": [
    "#generate sample matrix with file name and condition\n",
    "\n",
    "condition = [\"IWR\", \"IWR\", \"IWR\", \"PBS\", \"PBS\", \"PBS\"]\n",
    "\n",
    "sample_matrix = pd.DataFrame({'file':file_names, 'condition': condition})\n",
    "sample_matrix.to_csv(\"sample_matrix.csv\")\n",
    "\n",
    "#view the sample matrix\n",
    "sample_matrix"
   ]
  },
  {
   "cell_type": "code",
   "execution_count": 15,
   "id": "51e7cc1d",
   "metadata": {},
   "outputs": [
    {
     "name": "stdout",
     "output_type": "stream",
     "text": [
      "../10x curated\\IWR1 10uM_n=1_10X 1.0zoom 2x2tile.czi\n",
      "(4, 1944, 1944)\n",
      "file already exists\n",
      "(1944, 1944)\n"
     ]
    }
   ],
   "source": [
    "# This block loads each image, checks if an labels annotation file already exists and create one if not.\n",
    "# A napari window is then loaded allowing manual labelling of the beads in each each image.\n",
    "# Finally, the code chunk below is run to save the annotation file.\n",
    "\n",
    "# file index below corresponds to the index in the sample matrix above\n",
    "file_idx = 0\n",
    "labels_file = 'labels_' + str(file_idx) + \".tif\"\n",
    "\n",
    "print(img_files[file_idx])\n",
    "img = read_czi(img_files[file_idx])\n",
    "print(img.shape)\n",
    "\n",
    "#if file exists load, else generate ...\n",
    "if path.exists(labels_file):\n",
    "    print('file already exists')\n",
    "    labels = io.imread(labels_file)\n",
    "else:\n",
    "    labels = np.zeros_like(img[0,:,:])\n",
    "\n",
    "print(labels.shape)\n",
    "\n",
    "viewer = napari.view_image(img, channel_axis=0)\n",
    "\n",
    "labels_layer = viewer.add_labels(labels, name=\"segmentation\")\n",
    "\n",
    "napari.run()\n"
   ]
  },
  {
   "cell_type": "code",
   "execution_count": 16,
   "id": "d2ad0076",
   "metadata": {},
   "outputs": [
    {
     "name": "stdout",
     "output_type": "stream",
     "text": [
      "labels_0.tif\n",
      "file already exists\n"
     ]
    }
   ],
   "source": [
    "# Code to save labels - run this when annotation complete\n",
    "\n",
    "print (labels_file)\n",
    "\n",
    "preserve = True\n",
    "\n",
    "if path.exists(labels_file) and preserve:\n",
    "    print('file already exists')\n",
    "else:\n",
    "    print('creating new labels file')\n",
    "    io.imsave(labels_file, labels)"
   ]
  }
 ],
 "metadata": {
  "kernelspec": {
   "display_name": "Python 3 (ipykernel)",
   "language": "python",
   "name": "python3"
  },
  "language_info": {
   "codemirror_mode": {
    "name": "ipython",
    "version": 3
   },
   "file_extension": ".py",
   "mimetype": "text/x-python",
   "name": "python",
   "nbconvert_exporter": "python",
   "pygments_lexer": "ipython3",
   "version": "3.10.2"
  }
 },
 "nbformat": 4,
 "nbformat_minor": 5
}
